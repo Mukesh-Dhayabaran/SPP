{
 "cells": [
  {
   "cell_type": "code",
   "execution_count": 1,
   "id": "906fa10c",
   "metadata": {},
   "outputs": [],
   "source": [
    "# !pip install -q pandas scikit-learn flask flask-cors joblib\n"
   ]
  },
  {
   "cell_type": "code",
   "execution_count": 3,
   "id": "28428cec",
   "metadata": {},
   "outputs": [
    {
     "data": {
      "text/html": [
       "<div>\n",
       "<style scoped>\n",
       "    .dataframe tbody tr th:only-of-type {\n",
       "        vertical-align: middle;\n",
       "    }\n",
       "\n",
       "    .dataframe tbody tr th {\n",
       "        vertical-align: top;\n",
       "    }\n",
       "\n",
       "    .dataframe thead th {\n",
       "        text-align: right;\n",
       "    }\n",
       "</style>\n",
       "<table border=\"1\" class=\"dataframe\">\n",
       "  <thead>\n",
       "    <tr style=\"text-align: right;\">\n",
       "      <th></th>\n",
       "      <th>Hours_Studied_Per_Week</th>\n",
       "      <th>Attendance</th>\n",
       "      <th>Previous_Exam_Percent</th>\n",
       "      <th>Failures</th>\n",
       "      <th>Sports</th>\n",
       "      <th>Tuition</th>\n",
       "      <th>Parents_Support</th>\n",
       "      <th>Internet_Facility</th>\n",
       "      <th>Performance</th>\n",
       "    </tr>\n",
       "  </thead>\n",
       "  <tbody>\n",
       "    <tr>\n",
       "      <th>0</th>\n",
       "      <td>4.9</td>\n",
       "      <td>81.1</td>\n",
       "      <td>49.3</td>\n",
       "      <td>0</td>\n",
       "      <td>No</td>\n",
       "      <td>No</td>\n",
       "      <td>High</td>\n",
       "      <td>Yes</td>\n",
       "      <td>36.88</td>\n",
       "    </tr>\n",
       "    <tr>\n",
       "      <th>1</th>\n",
       "      <td>18.3</td>\n",
       "      <td>100.0</td>\n",
       "      <td>80.2</td>\n",
       "      <td>0</td>\n",
       "      <td>Yes</td>\n",
       "      <td>Yes</td>\n",
       "      <td>Medium</td>\n",
       "      <td>Yes</td>\n",
       "      <td>67.01</td>\n",
       "    </tr>\n",
       "    <tr>\n",
       "      <th>2</th>\n",
       "      <td>7.6</td>\n",
       "      <td>83.1</td>\n",
       "      <td>73.1</td>\n",
       "      <td>0</td>\n",
       "      <td>Yes</td>\n",
       "      <td>No</td>\n",
       "      <td>Medium</td>\n",
       "      <td>Yes</td>\n",
       "      <td>56.66</td>\n",
       "    </tr>\n",
       "    <tr>\n",
       "      <th>3</th>\n",
       "      <td>10.7</td>\n",
       "      <td>82.8</td>\n",
       "      <td>60.2</td>\n",
       "      <td>0</td>\n",
       "      <td>Yes</td>\n",
       "      <td>No</td>\n",
       "      <td>Low</td>\n",
       "      <td>Yes</td>\n",
       "      <td>56.95</td>\n",
       "    </tr>\n",
       "    <tr>\n",
       "      <th>4</th>\n",
       "      <td>11.6</td>\n",
       "      <td>78.6</td>\n",
       "      <td>67.8</td>\n",
       "      <td>0</td>\n",
       "      <td>Yes</td>\n",
       "      <td>No</td>\n",
       "      <td>Medium</td>\n",
       "      <td>Yes</td>\n",
       "      <td>61.49</td>\n",
       "    </tr>\n",
       "  </tbody>\n",
       "</table>\n",
       "</div>"
      ],
      "text/plain": [
       "   Hours_Studied_Per_Week  Attendance  Previous_Exam_Percent  Failures Sports  \\\n",
       "0                     4.9        81.1                   49.3         0     No   \n",
       "1                    18.3       100.0                   80.2         0    Yes   \n",
       "2                     7.6        83.1                   73.1         0    Yes   \n",
       "3                    10.7        82.8                   60.2         0    Yes   \n",
       "4                    11.6        78.6                   67.8         0    Yes   \n",
       "\n",
       "  Tuition Parents_Support Internet_Facility  Performance  \n",
       "0      No            High               Yes        36.88  \n",
       "1     Yes          Medium               Yes        67.01  \n",
       "2      No          Medium               Yes        56.66  \n",
       "3      No             Low               Yes        56.95  \n",
       "4      No          Medium               Yes        61.49  "
      ]
     },
     "execution_count": 3,
     "metadata": {},
     "output_type": "execute_result"
    }
   ],
   "source": [
    "import pandas as pd\n",
    "df = pd.read_csv('../data/student_performance_dataset.csv')  # adjust path if needed\n",
    "df.head()\n"
   ]
  },
  {
   "cell_type": "code",
   "execution_count": 4,
   "id": "994b28e3",
   "metadata": {},
   "outputs": [],
   "source": [
    "df['Sports'] = df['Sports'].map({'Yes':1,'No':0})\n",
    "df['Tuition'] = df['Tuition'].map({'Yes':1,'No':0})\n",
    "df['Internet_Facility'] = df['Internet_Facility'].map({'Yes':1,'No':0})\n",
    "df['Parents_Support'] = df['Parents_Support'].map({'Low':0,'Medium':1,'High':2})\n",
    "\n",
    "feature_cols = ['Hours_Studied_Per_Week','Attendance','Previous_Exam_Percent','Failures','Sports','Tuition','Parents_Support','Internet_Facility']\n",
    "X = df[feature_cols]\n",
    "y = df['Performance']\n"
   ]
  },
  {
   "cell_type": "code",
   "execution_count": 6,
   "id": "76635b40",
   "metadata": {},
   "outputs": [
    {
     "name": "stdout",
     "output_type": "stream",
     "text": [
      "MAE: 5.079973749999999\n",
      "R2 : 0.5060107655702678\n"
     ]
    },
    {
     "data": {
      "text/plain": [
       "['../backend/model.joblib']"
      ]
     },
     "execution_count": 6,
     "metadata": {},
     "output_type": "execute_result"
    }
   ],
   "source": [
    "from sklearn.model_selection import train_test_split\n",
    "from sklearn.ensemble import RandomForestRegressor\n",
    "from sklearn.metrics import mean_absolute_error, r2_score\n",
    "import joblib\n",
    "\n",
    "X_train, X_test, y_train, y_test = train_test_split(X,y,test_size=0.2,random_state=42)\n",
    "model = RandomForestRegressor(n_estimators=200, random_state=42)\n",
    "model.fit(X_train, y_train)\n",
    "preds = model.predict(X_test)\n",
    "print(\"MAE:\", mean_absolute_error(y_test, preds))\n",
    "print(\"R2 :\", r2_score(y_test, preds))\n",
    "joblib.dump(model, '../backend/model.joblib')  # optional save location\n"
   ]
  }
 ],
 "metadata": {
  "kernelspec": {
   "display_name": ".venv",
   "language": "python",
   "name": "python3"
  },
  "language_info": {
   "codemirror_mode": {
    "name": "ipython",
    "version": 3
   },
   "file_extension": ".py",
   "mimetype": "text/x-python",
   "name": "python",
   "nbconvert_exporter": "python",
   "pygments_lexer": "ipython3",
   "version": "3.12.2"
  }
 },
 "nbformat": 4,
 "nbformat_minor": 5
}
